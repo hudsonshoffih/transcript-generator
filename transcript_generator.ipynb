{
 "cells": [
  {
   "cell_type": "code",
   "execution_count": 1,
   "id": "aa6ab372-334f-4d0b-bb38-934b5453d50a",
   "metadata": {},
   "outputs": [
    {
     "name": "stdout",
     "output_type": "stream",
     "text": [
      "Requirement already satisfied: youtube_dl in /opt/anaconda3/lib/python3.11/site-packages (2021.12.17)\n",
      "Requirement already satisfied: pydub in /opt/anaconda3/lib/python3.11/site-packages (0.25.1)\n",
      "Requirement already satisfied: transformers in /opt/anaconda3/lib/python3.11/site-packages (4.44.2)\n",
      "Requirement already satisfied: datasets in /opt/anaconda3/lib/python3.11/site-packages (3.0.0)\n",
      "Requirement already satisfied: torchaudio in /opt/anaconda3/lib/python3.11/site-packages (2.4.1)\n",
      "Requirement already satisfied: filelock in /opt/anaconda3/lib/python3.11/site-packages (from transformers) (3.13.1)\n",
      "Requirement already satisfied: huggingface-hub<1.0,>=0.23.2 in /opt/anaconda3/lib/python3.11/site-packages (from transformers) (0.25.1)\n",
      "Requirement already satisfied: numpy>=1.17 in /opt/anaconda3/lib/python3.11/site-packages (from transformers) (1.26.4)\n",
      "Requirement already satisfied: packaging>=20.0 in /opt/anaconda3/lib/python3.11/site-packages (from transformers) (23.1)\n",
      "Requirement already satisfied: pyyaml>=5.1 in /opt/anaconda3/lib/python3.11/site-packages (from transformers) (6.0.1)\n",
      "Requirement already satisfied: regex!=2019.12.17 in /opt/anaconda3/lib/python3.11/site-packages (from transformers) (2023.10.3)\n",
      "Requirement already satisfied: requests in /opt/anaconda3/lib/python3.11/site-packages (from transformers) (2.32.3)\n",
      "Requirement already satisfied: safetensors>=0.4.1 in /opt/anaconda3/lib/python3.11/site-packages (from transformers) (0.4.5)\n",
      "Requirement already satisfied: tokenizers<0.20,>=0.19 in /opt/anaconda3/lib/python3.11/site-packages (from transformers) (0.19.1)\n",
      "Requirement already satisfied: tqdm>=4.27 in /opt/anaconda3/lib/python3.11/site-packages (from transformers) (4.66.5)\n",
      "Requirement already satisfied: pyarrow>=15.0.0 in /opt/anaconda3/lib/python3.11/site-packages (from datasets) (17.0.0)\n",
      "Requirement already satisfied: dill<0.3.9,>=0.3.0 in /opt/anaconda3/lib/python3.11/site-packages (from datasets) (0.3.8)\n",
      "Requirement already satisfied: pandas in /opt/anaconda3/lib/python3.11/site-packages (from datasets) (2.1.4)\n",
      "Requirement already satisfied: xxhash in /opt/anaconda3/lib/python3.11/site-packages (from datasets) (3.5.0)\n",
      "Requirement already satisfied: multiprocess in /opt/anaconda3/lib/python3.11/site-packages (from datasets) (0.70.16)\n",
      "Requirement already satisfied: fsspec<=2024.6.1,>=2023.1.0 in /opt/anaconda3/lib/python3.11/site-packages (from fsspec[http]<=2024.6.1,>=2023.1.0->datasets) (2023.10.0)\n",
      "Requirement already satisfied: aiohttp in /opt/anaconda3/lib/python3.11/site-packages (from datasets) (3.9.3)\n",
      "Requirement already satisfied: torch==2.4.1 in /opt/anaconda3/lib/python3.11/site-packages (from torchaudio) (2.4.1)\n",
      "Requirement already satisfied: typing-extensions>=4.8.0 in /opt/anaconda3/lib/python3.11/site-packages (from torch==2.4.1->torchaudio) (4.9.0)\n",
      "Requirement already satisfied: sympy in /opt/anaconda3/lib/python3.11/site-packages (from torch==2.4.1->torchaudio) (1.12)\n",
      "Requirement already satisfied: networkx in /opt/anaconda3/lib/python3.11/site-packages (from torch==2.4.1->torchaudio) (3.1)\n",
      "Requirement already satisfied: jinja2 in /opt/anaconda3/lib/python3.11/site-packages (from torch==2.4.1->torchaudio) (3.1.3)\n",
      "Requirement already satisfied: aiosignal>=1.1.2 in /opt/anaconda3/lib/python3.11/site-packages (from aiohttp->datasets) (1.2.0)\n",
      "Requirement already satisfied: attrs>=17.3.0 in /opt/anaconda3/lib/python3.11/site-packages (from aiohttp->datasets) (23.1.0)\n",
      "Requirement already satisfied: frozenlist>=1.1.1 in /opt/anaconda3/lib/python3.11/site-packages (from aiohttp->datasets) (1.4.0)\n",
      "Requirement already satisfied: multidict<7.0,>=4.5 in /opt/anaconda3/lib/python3.11/site-packages (from aiohttp->datasets) (6.0.4)\n",
      "Requirement already satisfied: yarl<2.0,>=1.0 in /opt/anaconda3/lib/python3.11/site-packages (from aiohttp->datasets) (1.9.3)\n",
      "Requirement already satisfied: charset-normalizer<4,>=2 in /opt/anaconda3/lib/python3.11/site-packages (from requests->transformers) (2.0.4)\n",
      "Requirement already satisfied: idna<4,>=2.5 in /opt/anaconda3/lib/python3.11/site-packages (from requests->transformers) (3.4)\n",
      "Requirement already satisfied: urllib3<3,>=1.21.1 in /opt/anaconda3/lib/python3.11/site-packages (from requests->transformers) (2.2.3)\n",
      "Requirement already satisfied: certifi>=2017.4.17 in /opt/anaconda3/lib/python3.11/site-packages (from requests->transformers) (2024.8.30)\n",
      "Requirement already satisfied: python-dateutil>=2.8.2 in /opt/anaconda3/lib/python3.11/site-packages (from pandas->datasets) (2.8.2)\n",
      "Requirement already satisfied: pytz>=2020.1 in /opt/anaconda3/lib/python3.11/site-packages (from pandas->datasets) (2023.3.post1)\n",
      "Requirement already satisfied: tzdata>=2022.1 in /opt/anaconda3/lib/python3.11/site-packages (from pandas->datasets) (2023.3)\n",
      "Requirement already satisfied: six>=1.5 in /opt/anaconda3/lib/python3.11/site-packages (from python-dateutil>=2.8.2->pandas->datasets) (1.16.0)\n",
      "Requirement already satisfied: MarkupSafe>=2.0 in /opt/anaconda3/lib/python3.11/site-packages (from jinja2->torch==2.4.1->torchaudio) (2.1.3)\n",
      "Requirement already satisfied: mpmath>=0.19 in /opt/anaconda3/lib/python3.11/site-packages (from sympy->torch==2.4.1->torchaudio) (1.3.0)\n"
     ]
    }
   ],
   "source": [
    "!pip install youtube_dl pydub transformers datasets torchaudio"
   ]
  },
  {
   "cell_type": "code",
   "execution_count": 3,
   "id": "ed7513e5-c4fb-4039-a373-4e3312d40afd",
   "metadata": {},
   "outputs": [
    {
     "name": "stdout",
     "output_type": "stream",
     "text": [
      "Transcription: TIME  IS SHORT  WHAT IS YOUR LIKE IT SEVEN O FAPOR THAT A PEREIT FOR A LITTLE TIME AN THEN FANISH IT AWAY IF I TOLD I SOME ONE I TOLD ME WHEN I WAS TWENTY YEARS OLD THAF LIKE WAS VERY SHORT IND WI PASS JUST LIKE THAT I WOULDN'T OBLE AND IF I TELL YOU THAT YOU DON'T BELIEVE IT I I CANNOT GET YOUNG PEOPLE TO UNDER STAND HOW BRIE LIE IS I QUICKLY PASSES IT SEEMS LIKE YESTERDAY I WAS IN SCHOOL EVERY ONE OF US HERE HAS BEEN GIVEN THE SAME AMUNT OF TIME IN A DAY FOURTEEN HUNDRED AND FORTY MINUTES A DAY HUNDRED AND SIX  T EIT HOURS OR WE SEVEND THE YEARS GOT ALLOWSUS AND IT'S INTRESIN TO ME WITH AL OF OUR MEDICAL SIMES WE NEVER PASS THAT MYJI MARETHE AVERAGE AMERICAN MALEH TO DAY LIVES SEVENTY YEARS AND FOUR MONTHS THE AVERAGE FEMALES SEVEN O THREE YEARS AN SIX MONTHS MOR PEOPLE LIVE TO BE SEVENBUT THE AVERAGH ATGH OF AN AMERICANIS STILL SEVENPI AS TAUGHT IN THE SCRIPTURES WHAT A THING IT IS WHEN YOU THINK THAT YOU HAVE JUST ONE SHORT LIKETO SPEND E YOI'D WRITE DOWN MY PROPERT IES IN LIK AND I GET COMMITTED TO CERTAIN PRARTIES NOW IS IXSEPT TO TIME THE THINGS WE OUGHT TO DO THE CLASSS WE OUGHT TO TAKE THE BOOKS WE OUGNH TO READ DO IT NOW THE FME LIV IT NEET YOU SPEND MORE TIME NOW WRIKE THAT LOT O HOME NOW THAT YOU'VE BEEN MEANING TO WRITE MONEY YOU OUGHT TO GIVE GIVE NOW TIME FOR STUDY DO IT NOW PEOPLE YOU OUGHT TO WITNESS TODO IT NOW EVERA TIME THE CLOCK TIKS IT SEEMS TO SAT NOW TO DAY IF YOU WILL HERE IS VOICS THERE MAY NOT BE O TO MORROW MEANFOR ME BECAUSE TIT'S A WARRNIN TO TIMETIME IS RUNING OUT FOR ALL OF US TIME IS TOO SHORT EN DECISION IN VACILLATION DO NOT HALT BETWEEN TO OPINION FOOLS SAY THE TIME IS LONGEVERY MORNING WE HAVE EIGT IS SIX BOUS INFOR UNDRS I CAS TOU SBENKIN N TES  AND ETDAY THE BANK NAN TIME OVENS N YOUR NON FOR YOUIN FOR ME IT ALLOWS NO BALANCES IN NO OVERDRAFTS IF YOU FAIL TO USE THE DAYS THIS POSITXS THE LOSS OS YOURS THETBIBLE SAS REDEEMED THE TIME BECAUSE THE DAYS ARE EVIL AND THE DAYS IN WHICH WE LIVING OR VERY EVILIF THERE WAS EVER A TIME FOR THE GOSPEL THAT CAN TRIME'S FALN THE HUMAN EART IT'S NOW  JESUS SEID AS LONG AS IT S DAY WE MUS DO THE WORK OF HIM THAT SEND US THE NIGHT IS COMING WHEN NO MAN CAN WORK THE NIGHT IS GOING TO COME IN YOUR LIKEYEV THERE WAS A SERENITY ABOUT THE WORK OF THE LORD JESUS IT'S THE QUALOTY OF LIK NOT THE LANKE JESUS ONLY HAD THIRTY THREE YEARS AND ENDED ON THE CROSS TO THE WORLD HE WAS A FAILUE AT THAT MOMENT YET IT THE END OF IS LIKE HE SED I FINISHED  THE WORK THE THOW GAVES ME TO TEN IT DOESN'T MOUTER WHETER YOU LI ANOTHER YEAR OTHER YEARS OF FIVE YEARWIT YOUR WORK BE FINISHED IS THERE A QUALITY TO IT IS THERE A DEDICATION TO IT SUPPOSE ALL OF OUR MEMBERS TIM THAT TIME TO WITNESS FOR CRIT AS WE TIE OF OUR IN CONE FOR THE CHARTS FET YOUR HEART WITH THE WORK OF GOD I FOW THAT THOSE WHO KNOW THE SCRIPTURES OF THE ONES THAT HAVE THE TPOWER TO DAY BUT WE NEED MEN AN WOMEN WHO WALK WITH GOD AND IF YOU DO THAT YOUTOO CAN FINISH THE WORKHE GOD GAT YOUI TI HELP US TO REALIZE THE BREVITY IN THE URGENCY OFE TIMENMAY WEN TES WHAT LITTLE TIME WE HAVE IN THE KINGDOM OF GOD\n"
     ]
    }
   ],
   "source": [
    "import torchaudio\n",
    "from torchaudio.transforms import Resample\n",
    "\n",
    "def speech_file_to_array_fn(file_path, target_sampling_rate=16000):\n",
    "\n",
    "    speech_array, original_sampling_rate = torchaudio.load(file_path) #audio file\n",
    "    \n",
    "    if original_sampling_rate != target_sampling_rate:\n",
    "        resampler = Resample(orig_freq=original_sampling_rate, new_freq=target_sampling_rate) # sampling the file\n",
    "        speech_array = resampler(speech_array)\n",
    "    \n",
    "    return speech_array.squeeze().numpy(), target_sampling_rate\n",
    "\n",
    "audio_input, sample_rate = speech_file_to_array_fn(\"audio.wav\", target_sampling_rate=16000) #resample to 16000hz\n",
    "\n",
    "\n",
    "inputs = processor(audio_input, sampling_rate=sample_rate, return_tensors=\"pt\", padding=True) # model \n",
    "\n",
    "\n",
    "with torch.no_grad():\n",
    "    logits = model(inputs.input_values).logits # Perform inference\n",
    "\n",
    "\n",
    "predicted_ids = torch.argmax(logits, dim=-1)\n",
    "transcription = processor.batch_decode(predicted_ids)[0] #decode the text\n",
    "\n",
    "print(\"Transcription:\", transcription)\n"
   ]
  },
  {
   "cell_type": "code",
   "execution_count": 4,
   "id": "9f215f5a-7b9a-4232-af20-ba4b2f33cf64",
   "metadata": {},
   "outputs": [
    {
     "data": {
      "text/plain": [
       "'import youtube_dl\\nfrom pydub import AudioSegment\\n\\ndef download_audio(url, output_path=\"audio.mp3\"):\\n    ydl_opts = {\\n        \\'format\\': \\'bestaudio/best\\',\\n        \\'postprocessors\\': [{\\'key\\': \\'FFmpegExtractAudio\\', \\'preferredcodec\\': \\'mp3\\', \\'preferredquality\\': \\'192\\'}],\\n        \\'outtmpl\\': output_path,\\n    }\\n    with youtube_dl.YoutubeDL(ydl_opts) as ydl:\\n        ydl.download([url])\\n    return output_path\\n\\n# input your desierd youtube url\\nyoutube_url = \\'https://youtu.be/lzILoMjEpaE?si=8aPtdAJVtKEy7aLx\\'\\naudio_file = download_audio(youtube_url)\\n\\n# convert audio to wav\\naudio = AudioSegment.from_mp3(audio_file)\\naudio.export(\"audio.wav\", format=\"wav\")'"
      ]
     },
     "execution_count": 4,
     "metadata": {},
     "output_type": "execute_result"
    }
   ],
   "source": [
    "'''import youtube_dl\n",
    "from pydub import AudioSegment\n",
    "\n",
    "def download_audio(url, output_path=\"audio.mp3\"):\n",
    "    ydl_opts = {\n",
    "        'format': 'bestaudio/best',\n",
    "        'postprocessors': [{'key': 'FFmpegExtractAudio', 'preferredcodec': 'mp3', 'preferredquality': '192'}],\n",
    "        'outtmpl': output_path,\n",
    "    }\n",
    "    with youtube_dl.YoutubeDL(ydl_opts) as ydl:\n",
    "        ydl.download([url])\n",
    "    return output_path\n",
    "\n",
    "# input your desierd youtube url\n",
    "youtube_url = 'https://youtu.be/lzILoMjEpaE?si=8aPtdAJVtKEy7aLx'\n",
    "audio_file = download_audio(youtube_url)\n",
    "\n",
    "# convert audio to wav\n",
    "audio = AudioSegment.from_mp3(audio_file)\n",
    "audio.export(\"audio.wav\", format=\"wav\")'''\n"
   ]
  },
  {
   "cell_type": "code",
   "execution_count": null,
   "id": "f4168aef-a8e9-4fda-a74e-202609574999",
   "metadata": {},
   "outputs": [],
   "source": [
    "'''from transformers import Wav2Vec2ForCTC, Wav2Vec2Processor\n",
    "import torch\n",
    "import torchaudio\n",
    "\n",
    "\n",
    "model = Wav2Vec2ForCTC.from_pretrained(\"facebook/wav2vec2-large-960h\") # pretrained model\n",
    "processor = Wav2Vec2Processor.from_pretrained(\"facebook/wav2vec2-large-960h\")\n",
    "\n",
    "def speech_file_to_array_fn(file_path): # pass the path as argument\n",
    "    speech_array, sampling_rate = torchaudio.load(file_path)\n",
    "    return speech_array.squeeze().numpy(), sampling_rate\n",
    "\n",
    "audio_input, sample_rate = speech_file_to_array_fn(\"audio.wav\")'''\n"
   ]
  }
 ],
 "metadata": {
  "kernelspec": {
   "display_name": "Python 3 (ipykernel)",
   "language": "python",
   "name": "python3"
  },
  "language_info": {
   "codemirror_mode": {
    "name": "ipython",
    "version": 3
   },
   "file_extension": ".py",
   "mimetype": "text/x-python",
   "name": "python",
   "nbconvert_exporter": "python",
   "pygments_lexer": "ipython3",
   "version": "3.11.8"
  }
 },
 "nbformat": 4,
 "nbformat_minor": 5
}
